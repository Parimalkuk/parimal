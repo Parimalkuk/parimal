{
 "cells": [
  {
   "cell_type": "code",
   "execution_count": 21,
   "id": "38e23ca9",
   "metadata": {},
   "outputs": [],
   "source": [
    "import pandas as pd\n",
    "import requests\n",
    "from bs4 import BeautifulSoup\n"
   ]
  },
  {
   "cell_type": "code",
   "execution_count": 22,
   "id": "31557886",
   "metadata": {},
   "outputs": [],
   "source": [
    " url= \"https://books.toscrape.com/catalogue/category/books_1/index.html\""
   ]
  },
  {
   "cell_type": "code",
   "execution_count": 23,
   "id": "163cd376",
   "metadata": {},
   "outputs": [],
   "source": [
    "response = requests.get(url)\n",
    "response = response.content\n",
    "soup = BeautifulSoup(response,'html.parser')\n"
   ]
  },
  {
   "cell_type": "code",
   "execution_count": 25,
   "id": "84147e3c",
   "metadata": {},
   "outputs": [],
   "source": [
    "ol = soup.find('ol')\n",
    "articles= ol.find_all('article',class_ = 'product_pod')"
   ]
  },
  {
   "cell_type": "code",
   "execution_count": 37,
   "id": "c307cbb7",
   "metadata": {},
   "outputs": [],
   "source": [
    "for i in range(1, 5):\n",
    "    url = f\"https://books.toscrape.com/catalogue/page-{i}.html\"\n",
    "    response = requests.get(url)\n",
    "    response = response.content\n",
    "    soup = BeautifulSoup(response, 'html.parser')\n",
    "    ol = soup.find('ol')\n",
    "    articles = ol.find_all('article', class_='product_pod')\n",
    "    for article in articles:\n",
    "        image = article.find('img')\n",
    "        title = image.attrs['alt']\n",
    "        starTag = article.find('p')\n",
    "        star = starTag['class'][1]\n",
    "        price = article.find('p', class_='price_color').text\n",
    "        price = float(price[1:])\n",
    "        books.append([title, star, price])\n"
   ]
  },
  {
   "cell_type": "code",
   "execution_count": 38,
   "id": "3c113bfb",
   "metadata": {},
   "outputs": [],
   "source": [
    "df = pd.DataFrame(books,columns=[\"Title\",\"Price\",\"Star Rating\"])\n",
    "df.to_csv(\"Books.csv\")"
   ]
  },
  {
   "cell_type": "code",
   "execution_count": 39,
   "id": "a32211fa",
   "metadata": {},
   "outputs": [
    {
     "data": {
      "text/html": [
       "<div>\n",
       "<style scoped>\n",
       "    .dataframe tbody tr th:only-of-type {\n",
       "        vertical-align: middle;\n",
       "    }\n",
       "\n",
       "    .dataframe tbody tr th {\n",
       "        vertical-align: top;\n",
       "    }\n",
       "\n",
       "    .dataframe thead th {\n",
       "        text-align: right;\n",
       "    }\n",
       "</style>\n",
       "<table border=\"1\" class=\"dataframe\">\n",
       "  <thead>\n",
       "    <tr style=\"text-align: right;\">\n",
       "      <th></th>\n",
       "      <th>Unnamed: 0</th>\n",
       "      <th>Title</th>\n",
       "      <th>Price</th>\n",
       "      <th>Star Rating</th>\n",
       "    </tr>\n",
       "  </thead>\n",
       "  <tbody>\n",
       "    <tr>\n",
       "      <th>0</th>\n",
       "      <td>0</td>\n",
       "      <td>A Light in the Attic</td>\n",
       "      <td>Three</td>\n",
       "      <td>51.77</td>\n",
       "    </tr>\n",
       "    <tr>\n",
       "      <th>1</th>\n",
       "      <td>1</td>\n",
       "      <td>Tipping the Velvet</td>\n",
       "      <td>One</td>\n",
       "      <td>53.74</td>\n",
       "    </tr>\n",
       "    <tr>\n",
       "      <th>2</th>\n",
       "      <td>2</td>\n",
       "      <td>Soumission</td>\n",
       "      <td>One</td>\n",
       "      <td>50.10</td>\n",
       "    </tr>\n",
       "    <tr>\n",
       "      <th>3</th>\n",
       "      <td>3</td>\n",
       "      <td>Sharp Objects</td>\n",
       "      <td>Four</td>\n",
       "      <td>47.82</td>\n",
       "    </tr>\n",
       "    <tr>\n",
       "      <th>4</th>\n",
       "      <td>4</td>\n",
       "      <td>Sapiens: A Brief History of Humankind</td>\n",
       "      <td>Five</td>\n",
       "      <td>54.23</td>\n",
       "    </tr>\n",
       "  </tbody>\n",
       "</table>\n",
       "</div>"
      ],
      "text/plain": [
       "   Unnamed: 0                                  Title  Price  Star Rating\n",
       "0           0                   A Light in the Attic  Three        51.77\n",
       "1           1                     Tipping the Velvet    One        53.74\n",
       "2           2                             Soumission    One        50.10\n",
       "3           3                          Sharp Objects   Four        47.82\n",
       "4           4  Sapiens: A Brief History of Humankind   Five        54.23"
      ]
     },
     "execution_count": 39,
     "metadata": {},
     "output_type": "execute_result"
    }
   ],
   "source": [
    "books_df=pd.read_csv(\"Books.csv\")\n",
    "\n",
    "books_df.head()"
   ]
  },
  {
   "cell_type": "code",
   "execution_count": 62,
   "id": "e1788343",
   "metadata": {},
   "outputs": [],
   "source": [
    "import pandas as pd\n",
    "import pymongo\n",
    "import json\n"
   ]
  },
  {
   "cell_type": "code",
   "execution_count": 87,
   "id": "103eb1c4",
   "metadata": {},
   "outputs": [],
   "source": [
    "client = pymongo.MongoClient('mongodb://localhost:27017/myRandomDB')"
   ]
  },
  {
   "cell_type": "code",
   "execution_count": 46,
   "id": "f846bafc",
   "metadata": {},
   "outputs": [
    {
     "name": "stdout",
     "output_type": "stream",
     "text": [
      "The Shape of books_df is :(80, 4)\n"
     ]
    },
    {
     "data": {
      "text/html": [
       "<div>\n",
       "<style scoped>\n",
       "    .dataframe tbody tr th:only-of-type {\n",
       "        vertical-align: middle;\n",
       "    }\n",
       "\n",
       "    .dataframe tbody tr th {\n",
       "        vertical-align: top;\n",
       "    }\n",
       "\n",
       "    .dataframe thead th {\n",
       "        text-align: right;\n",
       "    }\n",
       "</style>\n",
       "<table border=\"1\" class=\"dataframe\">\n",
       "  <thead>\n",
       "    <tr style=\"text-align: right;\">\n",
       "      <th></th>\n",
       "      <th>Unnamed: 0</th>\n",
       "      <th>Title</th>\n",
       "      <th>Price</th>\n",
       "      <th>Star Rating</th>\n",
       "    </tr>\n",
       "  </thead>\n",
       "  <tbody>\n",
       "    <tr>\n",
       "      <th>0</th>\n",
       "      <td>0</td>\n",
       "      <td>A Light in the Attic</td>\n",
       "      <td>Three</td>\n",
       "      <td>51.77</td>\n",
       "    </tr>\n",
       "    <tr>\n",
       "      <th>1</th>\n",
       "      <td>1</td>\n",
       "      <td>Tipping the Velvet</td>\n",
       "      <td>One</td>\n",
       "      <td>53.74</td>\n",
       "    </tr>\n",
       "    <tr>\n",
       "      <th>2</th>\n",
       "      <td>2</td>\n",
       "      <td>Soumission</td>\n",
       "      <td>One</td>\n",
       "      <td>50.10</td>\n",
       "    </tr>\n",
       "    <tr>\n",
       "      <th>3</th>\n",
       "      <td>3</td>\n",
       "      <td>Sharp Objects</td>\n",
       "      <td>Four</td>\n",
       "      <td>47.82</td>\n",
       "    </tr>\n",
       "    <tr>\n",
       "      <th>4</th>\n",
       "      <td>4</td>\n",
       "      <td>Sapiens: A Brief History of Humankind</td>\n",
       "      <td>Five</td>\n",
       "      <td>54.23</td>\n",
       "    </tr>\n",
       "  </tbody>\n",
       "</table>\n",
       "</div>"
      ],
      "text/plain": [
       "   Unnamed: 0                                  Title  Price  Star Rating\n",
       "0           0                   A Light in the Attic  Three        51.77\n",
       "1           1                     Tipping the Velvet    One        53.74\n",
       "2           2                             Soumission    One        50.10\n",
       "3           3                          Sharp Objects   Four        47.82\n",
       "4           4  Sapiens: A Brief History of Humankind   Five        54.23"
      ]
     },
     "execution_count": 46,
     "metadata": {},
     "output_type": "execute_result"
    }
   ],
   "source": [
    "books_df=pd.read_csv('Books.csv')\n",
    "print(f'The Shape of books_df is :{books_df.shape}')\n",
    "\n",
    "books_df.head()"
   ]
  },
  {
   "cell_type": "code",
   "execution_count": 52,
   "id": "ca91fa6f",
   "metadata": {},
   "outputs": [
    {
     "data": {
      "text/html": [
       "<div>\n",
       "<style scoped>\n",
       "    .dataframe tbody tr th:only-of-type {\n",
       "        vertical-align: middle;\n",
       "    }\n",
       "\n",
       "    .dataframe tbody tr th {\n",
       "        vertical-align: top;\n",
       "    }\n",
       "\n",
       "    .dataframe thead th {\n",
       "        text-align: right;\n",
       "    }\n",
       "</style>\n",
       "<table border=\"1\" class=\"dataframe\">\n",
       "  <thead>\n",
       "    <tr style=\"text-align: right;\">\n",
       "      <th></th>\n",
       "      <th>Unnamed: 0</th>\n",
       "      <th>Title</th>\n",
       "      <th>Price</th>\n",
       "      <th>Star_rating</th>\n",
       "    </tr>\n",
       "  </thead>\n",
       "  <tbody>\n",
       "    <tr>\n",
       "      <th>0</th>\n",
       "      <td>0</td>\n",
       "      <td>A Light in the Attic</td>\n",
       "      <td>Three</td>\n",
       "      <td>51.77</td>\n",
       "    </tr>\n",
       "    <tr>\n",
       "      <th>1</th>\n",
       "      <td>1</td>\n",
       "      <td>Tipping the Velvet</td>\n",
       "      <td>One</td>\n",
       "      <td>53.74</td>\n",
       "    </tr>\n",
       "    <tr>\n",
       "      <th>2</th>\n",
       "      <td>2</td>\n",
       "      <td>Soumission</td>\n",
       "      <td>One</td>\n",
       "      <td>50.10</td>\n",
       "    </tr>\n",
       "    <tr>\n",
       "      <th>3</th>\n",
       "      <td>3</td>\n",
       "      <td>Sharp Objects</td>\n",
       "      <td>Four</td>\n",
       "      <td>47.82</td>\n",
       "    </tr>\n",
       "    <tr>\n",
       "      <th>4</th>\n",
       "      <td>4</td>\n",
       "      <td>Sapiens: A Brief History of Humankind</td>\n",
       "      <td>Five</td>\n",
       "      <td>54.23</td>\n",
       "    </tr>\n",
       "  </tbody>\n",
       "</table>\n",
       "</div>"
      ],
      "text/plain": [
       "   Unnamed: 0                                  Title  Price  Star_rating\n",
       "0           0                   A Light in the Attic  Three        51.77\n",
       "1           1                     Tipping the Velvet    One        53.74\n",
       "2           2                             Soumission    One        50.10\n",
       "3           3                          Sharp Objects   Four        47.82\n",
       "4           4  Sapiens: A Brief History of Humankind   Five        54.23"
      ]
     },
     "execution_count": 52,
     "metadata": {},
     "output_type": "execute_result"
    }
   ],
   "source": [
    "books_df.rename(columns={'Star Rating':'Star_rating'},inplace=True)\n",
    "books_df.head()"
   ]
  },
  {
   "cell_type": "code",
   "execution_count": 54,
   "id": "e86ffd9f",
   "metadata": {},
   "outputs": [
    {
     "data": {
      "text/html": [
       "<div>\n",
       "<style scoped>\n",
       "    .dataframe tbody tr th:only-of-type {\n",
       "        vertical-align: middle;\n",
       "    }\n",
       "\n",
       "    .dataframe tbody tr th {\n",
       "        vertical-align: top;\n",
       "    }\n",
       "\n",
       "    .dataframe thead th {\n",
       "        text-align: right;\n",
       "    }\n",
       "</style>\n",
       "<table border=\"1\" class=\"dataframe\">\n",
       "  <thead>\n",
       "    <tr style=\"text-align: right;\">\n",
       "      <th></th>\n",
       "      <th>Title</th>\n",
       "      <th>Price</th>\n",
       "      <th>Star_rating</th>\n",
       "    </tr>\n",
       "  </thead>\n",
       "  <tbody>\n",
       "    <tr>\n",
       "      <th>75</th>\n",
       "      <td>Security</td>\n",
       "      <td>Two</td>\n",
       "      <td>39.25</td>\n",
       "    </tr>\n",
       "    <tr>\n",
       "      <th>76</th>\n",
       "      <td>Saga, Volume 6 (Saga (Collected Editions) #6)</td>\n",
       "      <td>Three</td>\n",
       "      <td>25.02</td>\n",
       "    </tr>\n",
       "    <tr>\n",
       "      <th>77</th>\n",
       "      <td>Saga, Volume 5 (Saga (Collected Editions) #5)</td>\n",
       "      <td>Two</td>\n",
       "      <td>51.04</td>\n",
       "    </tr>\n",
       "    <tr>\n",
       "      <th>78</th>\n",
       "      <td>Reskilling America: Learning to Labor in the T...</td>\n",
       "      <td>Two</td>\n",
       "      <td>19.83</td>\n",
       "    </tr>\n",
       "    <tr>\n",
       "      <th>79</th>\n",
       "      <td>Rat Queens, Vol. 3: Demons (Rat Queens (Collec...</td>\n",
       "      <td>Three</td>\n",
       "      <td>50.40</td>\n",
       "    </tr>\n",
       "  </tbody>\n",
       "</table>\n",
       "</div>"
      ],
      "text/plain": [
       "                                                Title  Price  Star_rating\n",
       "75                                           Security    Two        39.25\n",
       "76      Saga, Volume 6 (Saga (Collected Editions) #6)  Three        25.02\n",
       "77      Saga, Volume 5 (Saga (Collected Editions) #5)    Two        51.04\n",
       "78  Reskilling America: Learning to Labor in the T...    Two        19.83\n",
       "79  Rat Queens, Vol. 3: Demons (Rat Queens (Collec...  Three        50.40"
      ]
     },
     "execution_count": 54,
     "metadata": {},
     "output_type": "execute_result"
    }
   ],
   "source": [
    "books_df.drop(columns={'Unnamed: 0'},inplace=True)\n",
    "books_df.tail()"
   ]
  },
  {
   "cell_type": "code",
   "execution_count": 56,
   "id": "b7c57276",
   "metadata": {},
   "outputs": [
    {
     "name": "stdout",
     "output_type": "stream",
     "text": [
      "[{'Title': 'A Light in the Attic', 'Price': 'Three', 'Star_rating': 51.77}, {'Title': 'Tipping the Velvet', 'Price': 'One', 'Star_rating': 53.74}, {'Title': 'Soumission', 'Price': 'One', 'Star_rating': 50.1}, {'Title': 'Sharp Objects', 'Price': 'Four', 'Star_rating': 47.82}, {'Title': 'Sapiens: A Brief History of Humankind', 'Price': 'Five', 'Star_rating': 54.23}, {'Title': 'The Requiem Red', 'Price': 'One', 'Star_rating': 22.65}, {'Title': 'The Dirty Little Secrets of Getting Your Dream Job', 'Price': 'Four', 'Star_rating': 33.34}, {'Title': 'The Coming Woman: A Novel Based on the Life of the Infamous Feminist, Victoria Woodhull', 'Price': 'Three', 'Star_rating': 17.93}, {'Title': 'The Boys in the Boat: Nine Americans and Their Epic Quest for Gold at the 1936 Berlin Olympics', 'Price': 'Four', 'Star_rating': 22.6}, {'Title': 'The Black Maria', 'Price': 'One', 'Star_rating': 52.15}, {'Title': 'Starving Hearts (Triangular Trade Trilogy, #1)', 'Price': 'Two', 'Star_rating': 13.99}, {'Title': \"Shakespeare's Sonnets\", 'Price': 'Four', 'Star_rating': 20.66}, {'Title': 'Set Me Free', 'Price': 'Five', 'Star_rating': 17.46}, {'Title': \"Scott Pilgrim's Precious Little Life (Scott Pilgrim #1)\", 'Price': 'Five', 'Star_rating': 52.29}, {'Title': 'Rip it Up and Start Again', 'Price': 'Five', 'Star_rating': 35.02}, {'Title': 'Our Band Could Be Your Life: Scenes from the American Indie Underground, 1981-1991', 'Price': 'Three', 'Star_rating': 57.25}, {'Title': 'Olio', 'Price': 'One', 'Star_rating': 23.88}, {'Title': 'Mesaerion: The Best Science Fiction Stories 1800-1849', 'Price': 'One', 'Star_rating': 37.59}, {'Title': 'Libertarianism for Beginners', 'Price': 'Two', 'Star_rating': 51.33}, {'Title': \"It's Only the Himalayas\", 'Price': 'Two', 'Star_rating': 45.17}, {'Title': 'In Her Wake', 'Price': 'One', 'Star_rating': 12.84}, {'Title': 'How Music Works', 'Price': 'Two', 'Star_rating': 37.32}, {'Title': 'Foolproof Preserving: A Guide to Small Batch Jams, Jellies, Pickles, Condiments, and More: A Foolproof Guide to Making Small Batch Jams, Jellies, Pickles, Condiments, and More', 'Price': 'Three', 'Star_rating': 30.52}, {'Title': 'Chase Me (Paris Nights #2)', 'Price': 'Five', 'Star_rating': 25.27}, {'Title': 'Black Dust', 'Price': 'Five', 'Star_rating': 34.53}, {'Title': 'Birdsong: A Story in Pictures', 'Price': 'Three', 'Star_rating': 54.64}, {'Title': \"America's Cradle of Quarterbacks: Western Pennsylvania's Football Factory from Johnny Unitas to Joe Montana\", 'Price': 'Three', 'Star_rating': 22.5}, {'Title': 'Aladdin and His Wonderful Lamp', 'Price': 'Three', 'Star_rating': 53.13}, {'Title': 'Worlds Elsewhere: Journeys Around Shakespeare’s Globe', 'Price': 'Five', 'Star_rating': 40.3}, {'Title': 'Wall and Piece', 'Price': 'Four', 'Star_rating': 44.18}, {'Title': 'The Four Agreements: A Practical Guide to Personal Freedom', 'Price': 'Five', 'Star_rating': 17.66}, {'Title': 'The Five Love Languages: How to Express Heartfelt Commitment to Your Mate', 'Price': 'Three', 'Star_rating': 31.05}, {'Title': 'The Elephant Tree', 'Price': 'Five', 'Star_rating': 23.82}, {'Title': 'The Bear and the Piano', 'Price': 'One', 'Star_rating': 36.89}, {'Title': \"Sophie's World\", 'Price': 'Five', 'Star_rating': 15.94}, {'Title': 'Penny Maybe', 'Price': 'Three', 'Star_rating': 33.29}, {'Title': 'Maude (1883-1993):She Grew Up with the country', 'Price': 'Two', 'Star_rating': 18.02}, {'Title': 'In a Dark, Dark Wood', 'Price': 'One', 'Star_rating': 19.63}, {'Title': 'Behind Closed Doors', 'Price': 'Four', 'Star_rating': 52.22}, {'Title': \"You can't bury them all: Poems\", 'Price': 'Two', 'Star_rating': 33.63}, {'Title': 'Slow States of Collapse: Poems', 'Price': 'Three', 'Star_rating': 57.31}, {'Title': 'Reasons to Stay Alive', 'Price': 'Two', 'Star_rating': 26.41}, {'Title': 'Private Paris (Private #10)', 'Price': 'Five', 'Star_rating': 47.61}, {'Title': '#HigherSelfie: Wake Up Your Life. Free Your Soul. Find Your Tribe.', 'Price': 'Five', 'Star_rating': 23.11}, {'Title': 'Without Borders (Wanderlove #1)', 'Price': 'Two', 'Star_rating': 45.07}, {'Title': 'When We Collided', 'Price': 'One', 'Star_rating': 31.77}, {'Title': 'We Love You, Charlie Freeman', 'Price': 'Five', 'Star_rating': 50.27}, {'Title': 'Untitled Collection: Sabbath Poems 2014', 'Price': 'Four', 'Star_rating': 14.27}, {'Title': 'Unseen City: The Majesty of Pigeons, the Discreet Charm of Snails & Other Wonders of the Urban Wilderness', 'Price': 'Four', 'Star_rating': 44.18}, {'Title': 'Unicorn Tracks', 'Price': 'Three', 'Star_rating': 18.78}, {'Title': 'Unbound: How Eight Technologies Made Us Human, Transformed Society, and Brought Our World to the Brink', 'Price': 'One', 'Star_rating': 25.52}, {'Title': 'Tsubasa: WoRLD CHRoNiCLE 2 (Tsubasa WoRLD CHRoNiCLE #2)', 'Price': 'One', 'Star_rating': 16.28}, {'Title': 'Throwing Rocks at the Google Bus: How Growth Became the Enemy of Prosperity', 'Price': 'Three', 'Star_rating': 31.12}, {'Title': 'This One Summer', 'Price': 'Four', 'Star_rating': 19.49}, {'Title': 'Thirst', 'Price': 'Five', 'Star_rating': 17.27}, {'Title': 'The Torch Is Passed: A Harding Family Story', 'Price': 'One', 'Star_rating': 19.09}, {'Title': 'The Secret of Dreadwillow Carse', 'Price': 'One', 'Star_rating': 56.13}, {'Title': 'The Pioneer Woman Cooks: Dinnertime: Comfort Classics, Freezer Food, 16-Minute Meals, and Other Delicious Ways to Solve Supper!', 'Price': 'One', 'Star_rating': 56.41}, {'Title': 'The Past Never Ends', 'Price': 'Four', 'Star_rating': 56.5}, {'Title': 'The Natural History of Us (The Fine Art of Pretending #2)', 'Price': 'Three', 'Star_rating': 45.22}, {'Title': 'The Nameless City (The Nameless City #1)', 'Price': 'Four', 'Star_rating': 38.16}, {'Title': 'The Murder That Never Was (Forensic Instincts #5)', 'Price': 'Three', 'Star_rating': 54.11}, {'Title': \"The Most Perfect Thing: Inside (and Outside) a Bird's Egg\", 'Price': 'Four', 'Star_rating': 42.96}, {'Title': 'The Mindfulness and Acceptance Workbook for Anxiety: A Guide to Breaking Free from Anxiety, Phobias, and Worry Using Acceptance and Commitment Therapy', 'Price': 'Four', 'Star_rating': 23.89}, {'Title': 'The Life-Changing Magic of Tidying Up: The Japanese Art of Decluttering and Organizing', 'Price': 'Three', 'Star_rating': 16.77}, {'Title': 'The Inefficiency Assassin: Time Management Tactics for Working Smarter, Not Longer', 'Price': 'Five', 'Star_rating': 20.59}, {'Title': 'The Gutsy Girl: Escapades for Your Life of Epic Adventure', 'Price': 'One', 'Star_rating': 37.13}, {'Title': 'The Electric Pencil: Drawings from Inside State Hospital No. 3', 'Price': 'One', 'Star_rating': 56.06}, {'Title': 'The Death of Humanity: and the Case for Life', 'Price': 'Four', 'Star_rating': 58.11}, {'Title': 'The Bulletproof Diet: Lose up to a Pound a Day, Reclaim Energy and Focus, Upgrade Your Life', 'Price': 'Three', 'Star_rating': 49.05}, {'Title': 'The Art Forger', 'Price': 'Three', 'Star_rating': 40.76}, {'Title': 'The Age of Genius: The Seventeenth Century and the Birth of the Modern Mind', 'Price': 'One', 'Star_rating': 19.73}, {'Title': \"The Activist's Tao Te Ching: Ancient Advice for a Modern Revolution\", 'Price': 'Five', 'Star_rating': 32.24}, {'Title': 'Spark Joy: An Illustrated Master Class on the Art of Organizing and Tidying Up', 'Price': 'Four', 'Star_rating': 41.83}, {'Title': 'Soul Reader', 'Price': 'Two', 'Star_rating': 39.58}, {'Title': 'Security', 'Price': 'Two', 'Star_rating': 39.25}, {'Title': 'Saga, Volume 6 (Saga (Collected Editions) #6)', 'Price': 'Three', 'Star_rating': 25.02}, {'Title': 'Saga, Volume 5 (Saga (Collected Editions) #5)', 'Price': 'Two', 'Star_rating': 51.04}, {'Title': 'Reskilling America: Learning to Labor in the Twenty-First Century', 'Price': 'Two', 'Star_rating': 19.83}, {'Title': 'Rat Queens, Vol. 3: Demons (Rat Queens (Collected Editions) #11-15)', 'Price': 'Three', 'Star_rating': 50.4}]\n"
     ]
    }
   ],
   "source": [
    "data = books_df.to_dict(orient='records')\n",
    "print(data)"
   ]
  },
  {
   "cell_type": "code",
   "execution_count": 88,
   "id": "212b4dda",
   "metadata": {},
   "outputs": [
    {
     "name": "stdout",
     "output_type": "stream",
     "text": [
      "Database(MongoClient(host=['localhost:27017'], document_class=dict, tz_aware=False, connect=True), 'WebScrapping')\n"
     ]
    }
   ],
   "source": [
    "db = client['WebScrapping']\n",
    "print(db)"
   ]
  },
  {
   "cell_type": "code",
   "execution_count": 89,
   "id": "a7b5ff7e",
   "metadata": {},
   "outputs": [
    {
     "data": {
      "text/plain": [
       "<pymongo.results.InsertManyResult at 0x20a0381bb50>"
      ]
     },
     "execution_count": 89,
     "metadata": {},
     "output_type": "execute_result"
    }
   ],
   "source": [
    "db.Books.insert_many(data)"
   ]
  },
  {
   "cell_type": "code",
   "execution_count": 67,
   "id": "a3e8d1ed",
   "metadata": {},
   "outputs": [],
   "source": [
    "from pprint import PrettyPrinter"
   ]
  },
  {
   "cell_type": "code",
   "execution_count": 68,
   "id": "88731b2c",
   "metadata": {},
   "outputs": [],
   "source": [
    "pp= PrettyPrinter(indent=2)"
   ]
  },
  {
   "cell_type": "code",
   "execution_count": 90,
   "id": "ab07d25e",
   "metadata": {},
   "outputs": [
    {
     "name": "stdout",
     "output_type": "stream",
     "text": [
      "[ {'empty': False, 'name': 'WebScrapping', 'sizeOnDisk': 8192},\n",
      "  {'empty': False, 'name': 'admin', 'sizeOnDisk': 40960},\n",
      "  {'empty': False, 'name': 'config', 'sizeOnDisk': 12288},\n",
      "  {'empty': False, 'name': 'local', 'sizeOnDisk': 40960}]\n"
     ]
    }
   ],
   "source": [
    "pp.pprint(list(client.list_databases()))"
   ]
  },
  {
   "cell_type": "code",
   "execution_count": 91,
   "id": "88a12f72",
   "metadata": {},
   "outputs": [],
   "source": [
    "db= client['WebScrapping']\n"
   ]
  },
  {
   "cell_type": "code",
   "execution_count": 92,
   "id": "144a81f2",
   "metadata": {},
   "outputs": [
    {
     "name": "stdout",
     "output_type": "stream",
     "text": [
      "Books\n"
     ]
    }
   ],
   "source": [
    "for c in db.list_collections():\n",
    "    print(c['name'])"
   ]
  },
  {
   "cell_type": "code",
   "execution_count": 93,
   "id": "2af65045",
   "metadata": {},
   "outputs": [
    {
     "data": {
      "text/plain": [
       "Collection(Database(MongoClient(host=['localhost:27017'], document_class=dict, tz_aware=False, connect=True), 'WebScrapping'), 'Books')"
      ]
     },
     "execution_count": 93,
     "metadata": {},
     "output_type": "execute_result"
    }
   ],
   "source": [
    "mycollection=db['Books']\n",
    "mycollection\n"
   ]
  },
  {
   "cell_type": "code",
   "execution_count": 94,
   "id": "45b9c914",
   "metadata": {},
   "outputs": [
    {
     "data": {
      "text/plain": [
       "80"
      ]
     },
     "execution_count": 94,
     "metadata": {},
     "output_type": "execute_result"
    }
   ],
   "source": [
    "mycollection.count_documents({})\n"
   ]
  },
  {
   "cell_type": "code",
   "execution_count": 95,
   "id": "46349ef9",
   "metadata": {},
   "outputs": [
    {
     "name": "stdout",
     "output_type": "stream",
     "text": [
      "{ 'Price': 'Three',\n",
      "  'Star_rating': 51.77,\n",
      "  'Title': 'A Light in the Attic',\n",
      "  '_id': ObjectId('6496513e6e5a637da98e0e9c')}\n"
     ]
    }
   ],
   "source": [
    "first_record = mycollection.find_one({})\n",
    "pp.pprint(first_record)"
   ]
  },
  {
   "cell_type": "code",
   "execution_count": 96,
   "id": "b74230e7",
   "metadata": {},
   "outputs": [
    {
     "name": "stdout",
     "output_type": "stream",
     "text": [
      "<pymongo.cursor.Cursor object at 0x0000020A03E81550>\n"
     ]
    }
   ],
   "source": [
    "all_records= mycollection.find({})\n",
    "pp.pprint(all_records)"
   ]
  },
  {
   "cell_type": "code",
   "execution_count": 97,
   "id": "7ca44992",
   "metadata": {},
   "outputs": [
    {
     "name": "stdout",
     "output_type": "stream",
     "text": [
      "{ 'Price': 'Three',\n",
      "  'Star_rating': 51.77,\n",
      "  'Title': 'A Light in the Attic',\n",
      "  '_id': ObjectId('6496513e6e5a637da98e0e9c')}\n",
      "{ 'Price': 'One',\n",
      "  'Star_rating': 53.74,\n",
      "  'Title': 'Tipping the Velvet',\n",
      "  '_id': ObjectId('6496513e6e5a637da98e0e9d')}\n",
      "{ 'Price': 'One',\n",
      "  'Star_rating': 50.1,\n",
      "  'Title': 'Soumission',\n",
      "  '_id': ObjectId('6496513e6e5a637da98e0e9e')}\n",
      "{ 'Price': 'Four',\n",
      "  'Star_rating': 47.82,\n",
      "  'Title': 'Sharp Objects',\n",
      "  '_id': ObjectId('6496513e6e5a637da98e0e9f')}\n",
      "{ 'Price': 'Five',\n",
      "  'Star_rating': 54.23,\n",
      "  'Title': 'Sapiens: A Brief History of Humankind',\n",
      "  '_id': ObjectId('6496513e6e5a637da98e0ea0')}\n",
      "{ 'Price': 'One',\n",
      "  'Star_rating': 22.65,\n",
      "  'Title': 'The Requiem Red',\n",
      "  '_id': ObjectId('6496513e6e5a637da98e0ea1')}\n",
      "{ 'Price': 'Four',\n",
      "  'Star_rating': 33.34,\n",
      "  'Title': 'The Dirty Little Secrets of Getting Your Dream Job',\n",
      "  '_id': ObjectId('6496513e6e5a637da98e0ea2')}\n",
      "{ 'Price': 'Three',\n",
      "  'Star_rating': 17.93,\n",
      "  'Title': 'The Coming Woman: A Novel Based on the Life of the Infamous '\n",
      "           'Feminist, Victoria Woodhull',\n",
      "  '_id': ObjectId('6496513e6e5a637da98e0ea3')}\n",
      "{ 'Price': 'Four',\n",
      "  'Star_rating': 22.6,\n",
      "  'Title': 'The Boys in the Boat: Nine Americans and Their Epic Quest for Gold '\n",
      "           'at the 1936 Berlin Olympics',\n",
      "  '_id': ObjectId('6496513e6e5a637da98e0ea4')}\n",
      "{ 'Price': 'One',\n",
      "  'Star_rating': 52.15,\n",
      "  'Title': 'The Black Maria',\n",
      "  '_id': ObjectId('6496513e6e5a637da98e0ea5')}\n",
      "{ 'Price': 'Two',\n",
      "  'Star_rating': 13.99,\n",
      "  'Title': 'Starving Hearts (Triangular Trade Trilogy, #1)',\n",
      "  '_id': ObjectId('6496513e6e5a637da98e0ea6')}\n",
      "{ 'Price': 'Four',\n",
      "  'Star_rating': 20.66,\n",
      "  'Title': \"Shakespeare's Sonnets\",\n",
      "  '_id': ObjectId('6496513e6e5a637da98e0ea7')}\n",
      "{ 'Price': 'Five',\n",
      "  'Star_rating': 17.46,\n",
      "  'Title': 'Set Me Free',\n",
      "  '_id': ObjectId('6496513e6e5a637da98e0ea8')}\n",
      "{ 'Price': 'Five',\n",
      "  'Star_rating': 52.29,\n",
      "  'Title': \"Scott Pilgrim's Precious Little Life (Scott Pilgrim #1)\",\n",
      "  '_id': ObjectId('6496513e6e5a637da98e0ea9')}\n",
      "{ 'Price': 'Five',\n",
      "  'Star_rating': 35.02,\n",
      "  'Title': 'Rip it Up and Start Again',\n",
      "  '_id': ObjectId('6496513e6e5a637da98e0eaa')}\n",
      "{ 'Price': 'Three',\n",
      "  'Star_rating': 57.25,\n",
      "  'Title': 'Our Band Could Be Your Life: Scenes from the American Indie '\n",
      "           'Underground, 1981-1991',\n",
      "  '_id': ObjectId('6496513e6e5a637da98e0eab')}\n",
      "{ 'Price': 'One',\n",
      "  'Star_rating': 23.88,\n",
      "  'Title': 'Olio',\n",
      "  '_id': ObjectId('6496513e6e5a637da98e0eac')}\n",
      "{ 'Price': 'One',\n",
      "  'Star_rating': 37.59,\n",
      "  'Title': 'Mesaerion: The Best Science Fiction Stories 1800-1849',\n",
      "  '_id': ObjectId('6496513e6e5a637da98e0ead')}\n",
      "{ 'Price': 'Two',\n",
      "  'Star_rating': 51.33,\n",
      "  'Title': 'Libertarianism for Beginners',\n",
      "  '_id': ObjectId('6496513e6e5a637da98e0eae')}\n",
      "{ 'Price': 'Two',\n",
      "  'Star_rating': 45.17,\n",
      "  'Title': \"It's Only the Himalayas\",\n",
      "  '_id': ObjectId('6496513e6e5a637da98e0eaf')}\n",
      "{ 'Price': 'One',\n",
      "  'Star_rating': 12.84,\n",
      "  'Title': 'In Her Wake',\n",
      "  '_id': ObjectId('6496513e6e5a637da98e0eb0')}\n",
      "{ 'Price': 'Two',\n",
      "  'Star_rating': 37.32,\n",
      "  'Title': 'How Music Works',\n",
      "  '_id': ObjectId('6496513e6e5a637da98e0eb1')}\n",
      "{ 'Price': 'Three',\n",
      "  'Star_rating': 30.52,\n",
      "  'Title': 'Foolproof Preserving: A Guide to Small Batch Jams, Jellies, '\n",
      "           'Pickles, Condiments, and More: A Foolproof Guide to Making Small '\n",
      "           'Batch Jams, Jellies, Pickles, Condiments, and More',\n",
      "  '_id': ObjectId('6496513e6e5a637da98e0eb2')}\n",
      "{ 'Price': 'Five',\n",
      "  'Star_rating': 25.27,\n",
      "  'Title': 'Chase Me (Paris Nights #2)',\n",
      "  '_id': ObjectId('6496513e6e5a637da98e0eb3')}\n",
      "{ 'Price': 'Five',\n",
      "  'Star_rating': 34.53,\n",
      "  'Title': 'Black Dust',\n",
      "  '_id': ObjectId('6496513e6e5a637da98e0eb4')}\n",
      "{ 'Price': 'Three',\n",
      "  'Star_rating': 54.64,\n",
      "  'Title': 'Birdsong: A Story in Pictures',\n",
      "  '_id': ObjectId('6496513e6e5a637da98e0eb5')}\n",
      "{ 'Price': 'Three',\n",
      "  'Star_rating': 22.5,\n",
      "  'Title': \"America's Cradle of Quarterbacks: Western Pennsylvania's Football \"\n",
      "           'Factory from Johnny Unitas to Joe Montana',\n",
      "  '_id': ObjectId('6496513e6e5a637da98e0eb6')}\n",
      "{ 'Price': 'Three',\n",
      "  'Star_rating': 53.13,\n",
      "  'Title': 'Aladdin and His Wonderful Lamp',\n",
      "  '_id': ObjectId('6496513e6e5a637da98e0eb7')}\n",
      "{ 'Price': 'Five',\n",
      "  'Star_rating': 40.3,\n",
      "  'Title': 'Worlds Elsewhere: Journeys Around Shakespeare’s Globe',\n",
      "  '_id': ObjectId('6496513e6e5a637da98e0eb8')}\n",
      "{ 'Price': 'Four',\n",
      "  'Star_rating': 44.18,\n",
      "  'Title': 'Wall and Piece',\n",
      "  '_id': ObjectId('6496513e6e5a637da98e0eb9')}\n",
      "{ 'Price': 'Five',\n",
      "  'Star_rating': 17.66,\n",
      "  'Title': 'The Four Agreements: A Practical Guide to Personal Freedom',\n",
      "  '_id': ObjectId('6496513e6e5a637da98e0eba')}\n",
      "{ 'Price': 'Three',\n",
      "  'Star_rating': 31.05,\n",
      "  'Title': 'The Five Love Languages: How to Express Heartfelt Commitment to '\n",
      "           'Your Mate',\n",
      "  '_id': ObjectId('6496513e6e5a637da98e0ebb')}\n",
      "{ 'Price': 'Five',\n",
      "  'Star_rating': 23.82,\n",
      "  'Title': 'The Elephant Tree',\n",
      "  '_id': ObjectId('6496513e6e5a637da98e0ebc')}\n",
      "{ 'Price': 'One',\n",
      "  'Star_rating': 36.89,\n",
      "  'Title': 'The Bear and the Piano',\n",
      "  '_id': ObjectId('6496513e6e5a637da98e0ebd')}\n",
      "{ 'Price': 'Five',\n",
      "  'Star_rating': 15.94,\n",
      "  'Title': \"Sophie's World\",\n",
      "  '_id': ObjectId('6496513e6e5a637da98e0ebe')}\n",
      "{ 'Price': 'Three',\n",
      "  'Star_rating': 33.29,\n",
      "  'Title': 'Penny Maybe',\n",
      "  '_id': ObjectId('6496513e6e5a637da98e0ebf')}\n",
      "{ 'Price': 'Two',\n",
      "  'Star_rating': 18.02,\n",
      "  'Title': 'Maude (1883-1993):She Grew Up with the country',\n",
      "  '_id': ObjectId('6496513e6e5a637da98e0ec0')}\n",
      "{ 'Price': 'One',\n",
      "  'Star_rating': 19.63,\n",
      "  'Title': 'In a Dark, Dark Wood',\n",
      "  '_id': ObjectId('6496513e6e5a637da98e0ec1')}\n",
      "{ 'Price': 'Four',\n",
      "  'Star_rating': 52.22,\n",
      "  'Title': 'Behind Closed Doors',\n",
      "  '_id': ObjectId('6496513e6e5a637da98e0ec2')}\n",
      "{ 'Price': 'Two',\n",
      "  'Star_rating': 33.63,\n",
      "  'Title': \"You can't bury them all: Poems\",\n",
      "  '_id': ObjectId('6496513e6e5a637da98e0ec3')}\n",
      "{ 'Price': 'Three',\n",
      "  'Star_rating': 57.31,\n",
      "  'Title': 'Slow States of Collapse: Poems',\n",
      "  '_id': ObjectId('6496513e6e5a637da98e0ec4')}\n",
      "{ 'Price': 'Two',\n",
      "  'Star_rating': 26.41,\n",
      "  'Title': 'Reasons to Stay Alive',\n",
      "  '_id': ObjectId('6496513e6e5a637da98e0ec5')}\n",
      "{ 'Price': 'Five',\n",
      "  'Star_rating': 47.61,\n",
      "  'Title': 'Private Paris (Private #10)',\n",
      "  '_id': ObjectId('6496513e6e5a637da98e0ec6')}\n",
      "{ 'Price': 'Five',\n",
      "  'Star_rating': 23.11,\n",
      "  'Title': '#HigherSelfie: Wake Up Your Life. Free Your Soul. Find Your Tribe.',\n",
      "  '_id': ObjectId('6496513e6e5a637da98e0ec7')}\n",
      "{ 'Price': 'Two',\n",
      "  'Star_rating': 45.07,\n",
      "  'Title': 'Without Borders (Wanderlove #1)',\n",
      "  '_id': ObjectId('6496513e6e5a637da98e0ec8')}\n",
      "{ 'Price': 'One',\n",
      "  'Star_rating': 31.77,\n",
      "  'Title': 'When We Collided',\n",
      "  '_id': ObjectId('6496513e6e5a637da98e0ec9')}\n",
      "{ 'Price': 'Five',\n",
      "  'Star_rating': 50.27,\n",
      "  'Title': 'We Love You, Charlie Freeman',\n",
      "  '_id': ObjectId('6496513e6e5a637da98e0eca')}\n",
      "{ 'Price': 'Four',\n",
      "  'Star_rating': 14.27,\n",
      "  'Title': 'Untitled Collection: Sabbath Poems 2014',\n",
      "  '_id': ObjectId('6496513e6e5a637da98e0ecb')}\n",
      "{ 'Price': 'Four',\n",
      "  'Star_rating': 44.18,\n",
      "  'Title': 'Unseen City: The Majesty of Pigeons, the Discreet Charm of Snails '\n",
      "           '& Other Wonders of the Urban Wilderness',\n",
      "  '_id': ObjectId('6496513e6e5a637da98e0ecc')}\n",
      "{ 'Price': 'Three',\n",
      "  'Star_rating': 18.78,\n",
      "  'Title': 'Unicorn Tracks',\n",
      "  '_id': ObjectId('6496513e6e5a637da98e0ecd')}\n",
      "{ 'Price': 'One',\n",
      "  'Star_rating': 25.52,\n",
      "  'Title': 'Unbound: How Eight Technologies Made Us Human, Transformed '\n",
      "           'Society, and Brought Our World to the Brink',\n",
      "  '_id': ObjectId('6496513e6e5a637da98e0ece')}\n",
      "{ 'Price': 'One',\n",
      "  'Star_rating': 16.28,\n",
      "  'Title': 'Tsubasa: WoRLD CHRoNiCLE 2 (Tsubasa WoRLD CHRoNiCLE #2)',\n",
      "  '_id': ObjectId('6496513e6e5a637da98e0ecf')}\n",
      "{ 'Price': 'Three',\n",
      "  'Star_rating': 31.12,\n",
      "  'Title': 'Throwing Rocks at the Google Bus: How Growth Became the Enemy of '\n",
      "           'Prosperity',\n",
      "  '_id': ObjectId('6496513e6e5a637da98e0ed0')}\n",
      "{ 'Price': 'Four',\n",
      "  'Star_rating': 19.49,\n",
      "  'Title': 'This One Summer',\n",
      "  '_id': ObjectId('6496513e6e5a637da98e0ed1')}\n",
      "{ 'Price': 'Five',\n",
      "  'Star_rating': 17.27,\n",
      "  'Title': 'Thirst',\n",
      "  '_id': ObjectId('6496513e6e5a637da98e0ed2')}\n",
      "{ 'Price': 'One',\n",
      "  'Star_rating': 19.09,\n",
      "  'Title': 'The Torch Is Passed: A Harding Family Story',\n",
      "  '_id': ObjectId('6496513e6e5a637da98e0ed3')}\n",
      "{ 'Price': 'One',\n",
      "  'Star_rating': 56.13,\n",
      "  'Title': 'The Secret of Dreadwillow Carse',\n",
      "  '_id': ObjectId('6496513e6e5a637da98e0ed4')}\n",
      "{ 'Price': 'One',\n",
      "  'Star_rating': 56.41,\n",
      "  'Title': 'The Pioneer Woman Cooks: Dinnertime: Comfort Classics, Freezer '\n",
      "           'Food, 16-Minute Meals, and Other Delicious Ways to Solve Supper!',\n",
      "  '_id': ObjectId('6496513e6e5a637da98e0ed5')}\n",
      "{ 'Price': 'Four',\n",
      "  'Star_rating': 56.5,\n",
      "  'Title': 'The Past Never Ends',\n",
      "  '_id': ObjectId('6496513e6e5a637da98e0ed6')}\n",
      "{ 'Price': 'Three',\n",
      "  'Star_rating': 45.22,\n",
      "  'Title': 'The Natural History of Us (The Fine Art of Pretending #2)',\n",
      "  '_id': ObjectId('6496513e6e5a637da98e0ed7')}\n",
      "{ 'Price': 'Four',\n",
      "  'Star_rating': 38.16,\n",
      "  'Title': 'The Nameless City (The Nameless City #1)',\n",
      "  '_id': ObjectId('6496513e6e5a637da98e0ed8')}\n",
      "{ 'Price': 'Three',\n",
      "  'Star_rating': 54.11,\n",
      "  'Title': 'The Murder That Never Was (Forensic Instincts #5)',\n",
      "  '_id': ObjectId('6496513e6e5a637da98e0ed9')}\n",
      "{ 'Price': 'Four',\n",
      "  'Star_rating': 42.96,\n",
      "  'Title': \"The Most Perfect Thing: Inside (and Outside) a Bird's Egg\",\n",
      "  '_id': ObjectId('6496513e6e5a637da98e0eda')}\n",
      "{ 'Price': 'Four',\n",
      "  'Star_rating': 23.89,\n",
      "  'Title': 'The Mindfulness and Acceptance Workbook for Anxiety: A Guide to '\n",
      "           'Breaking Free from Anxiety, Phobias, and Worry Using Acceptance '\n",
      "           'and Commitment Therapy',\n",
      "  '_id': ObjectId('6496513e6e5a637da98e0edb')}\n",
      "{ 'Price': 'Three',\n",
      "  'Star_rating': 16.77,\n",
      "  'Title': 'The Life-Changing Magic of Tidying Up: The Japanese Art of '\n",
      "           'Decluttering and Organizing',\n",
      "  '_id': ObjectId('6496513e6e5a637da98e0edc')}\n",
      "{ 'Price': 'Five',\n",
      "  'Star_rating': 20.59,\n",
      "  'Title': 'The Inefficiency Assassin: Time Management Tactics for Working '\n",
      "           'Smarter, Not Longer',\n",
      "  '_id': ObjectId('6496513e6e5a637da98e0edd')}\n",
      "{ 'Price': 'One',\n",
      "  'Star_rating': 37.13,\n",
      "  'Title': 'The Gutsy Girl: Escapades for Your Life of Epic Adventure',\n",
      "  '_id': ObjectId('6496513e6e5a637da98e0ede')}\n",
      "{ 'Price': 'One',\n",
      "  'Star_rating': 56.06,\n",
      "  'Title': 'The Electric Pencil: Drawings from Inside State Hospital No. 3',\n",
      "  '_id': ObjectId('6496513e6e5a637da98e0edf')}\n",
      "{ 'Price': 'Four',\n",
      "  'Star_rating': 58.11,\n",
      "  'Title': 'The Death of Humanity: and the Case for Life',\n",
      "  '_id': ObjectId('6496513e6e5a637da98e0ee0')}\n",
      "{ 'Price': 'Three',\n",
      "  'Star_rating': 49.05,\n",
      "  'Title': 'The Bulletproof Diet: Lose up to a Pound a Day, Reclaim Energy and '\n",
      "           'Focus, Upgrade Your Life',\n",
      "  '_id': ObjectId('6496513e6e5a637da98e0ee1')}\n",
      "{ 'Price': 'Three',\n",
      "  'Star_rating': 40.76,\n",
      "  'Title': 'The Art Forger',\n",
      "  '_id': ObjectId('6496513e6e5a637da98e0ee2')}\n",
      "{ 'Price': 'One',\n",
      "  'Star_rating': 19.73,\n",
      "  'Title': 'The Age of Genius: The Seventeenth Century and the Birth of the '\n",
      "           'Modern Mind',\n",
      "  '_id': ObjectId('6496513e6e5a637da98e0ee3')}\n",
      "{ 'Price': 'Five',\n",
      "  'Star_rating': 32.24,\n",
      "  'Title': \"The Activist's Tao Te Ching: Ancient Advice for a Modern \"\n",
      "           'Revolution',\n",
      "  '_id': ObjectId('6496513e6e5a637da98e0ee4')}\n",
      "{ 'Price': 'Four',\n",
      "  'Star_rating': 41.83,\n",
      "  'Title': 'Spark Joy: An Illustrated Master Class on the Art of Organizing '\n",
      "           'and Tidying Up',\n",
      "  '_id': ObjectId('6496513e6e5a637da98e0ee5')}\n",
      "{ 'Price': 'Two',\n",
      "  'Star_rating': 39.58,\n",
      "  'Title': 'Soul Reader',\n",
      "  '_id': ObjectId('6496513e6e5a637da98e0ee6')}\n",
      "{ 'Price': 'Two',\n",
      "  'Star_rating': 39.25,\n",
      "  'Title': 'Security',\n",
      "  '_id': ObjectId('6496513e6e5a637da98e0ee7')}\n",
      "{ 'Price': 'Three',\n",
      "  'Star_rating': 25.02,\n",
      "  'Title': 'Saga, Volume 6 (Saga (Collected Editions) #6)',\n",
      "  '_id': ObjectId('6496513e6e5a637da98e0ee8')}\n",
      "{ 'Price': 'Two',\n",
      "  'Star_rating': 51.04,\n",
      "  'Title': 'Saga, Volume 5 (Saga (Collected Editions) #5)',\n",
      "  '_id': ObjectId('6496513e6e5a637da98e0ee9')}\n",
      "{ 'Price': 'Two',\n",
      "  'Star_rating': 19.83,\n",
      "  'Title': 'Reskilling America: Learning to Labor in the Twenty-First Century',\n",
      "  '_id': ObjectId('6496513e6e5a637da98e0eea')}\n",
      "{ 'Price': 'Three',\n",
      "  'Star_rating': 50.4,\n",
      "  'Title': 'Rat Queens, Vol. 3: Demons (Rat Queens (Collected Editions) '\n",
      "           '#11-15)',\n",
      "  '_id': ObjectId('6496513e6e5a637da98e0eeb')}\n"
     ]
    }
   ],
   "source": [
    "for row in all_records:pp.pprint(row)"
   ]
  },
  {
   "cell_type": "code",
   "execution_count": 98,
   "id": "7b96a5f8",
   "metadata": {},
   "outputs": [],
   "source": [
    "all_records=mycollection.find({})"
   ]
  },
  {
   "cell_type": "code",
   "execution_count": 99,
   "id": "54c56559",
   "metadata": {},
   "outputs": [],
   "source": [
    "list_all_records= list(all_records)"
   ]
  },
  {
   "cell_type": "code",
   "execution_count": 101,
   "id": "77a52349",
   "metadata": {},
   "outputs": [
    {
     "data": {
      "text/html": [
       "<div>\n",
       "<style scoped>\n",
       "    .dataframe tbody tr th:only-of-type {\n",
       "        vertical-align: middle;\n",
       "    }\n",
       "\n",
       "    .dataframe tbody tr th {\n",
       "        vertical-align: top;\n",
       "    }\n",
       "\n",
       "    .dataframe thead th {\n",
       "        text-align: right;\n",
       "    }\n",
       "</style>\n",
       "<table border=\"1\" class=\"dataframe\">\n",
       "  <thead>\n",
       "    <tr style=\"text-align: right;\">\n",
       "      <th></th>\n",
       "      <th>_id</th>\n",
       "      <th>Title</th>\n",
       "      <th>Price</th>\n",
       "      <th>Star_rating</th>\n",
       "    </tr>\n",
       "  </thead>\n",
       "  <tbody>\n",
       "    <tr>\n",
       "      <th>0</th>\n",
       "      <td>6496513e6e5a637da98e0e9c</td>\n",
       "      <td>A Light in the Attic</td>\n",
       "      <td>Three</td>\n",
       "      <td>51.77</td>\n",
       "    </tr>\n",
       "    <tr>\n",
       "      <th>1</th>\n",
       "      <td>6496513e6e5a637da98e0e9d</td>\n",
       "      <td>Tipping the Velvet</td>\n",
       "      <td>One</td>\n",
       "      <td>53.74</td>\n",
       "    </tr>\n",
       "    <tr>\n",
       "      <th>2</th>\n",
       "      <td>6496513e6e5a637da98e0e9e</td>\n",
       "      <td>Soumission</td>\n",
       "      <td>One</td>\n",
       "      <td>50.10</td>\n",
       "    </tr>\n",
       "    <tr>\n",
       "      <th>3</th>\n",
       "      <td>6496513e6e5a637da98e0e9f</td>\n",
       "      <td>Sharp Objects</td>\n",
       "      <td>Four</td>\n",
       "      <td>47.82</td>\n",
       "    </tr>\n",
       "    <tr>\n",
       "      <th>4</th>\n",
       "      <td>6496513e6e5a637da98e0ea0</td>\n",
       "      <td>Sapiens: A Brief History of Humankind</td>\n",
       "      <td>Five</td>\n",
       "      <td>54.23</td>\n",
       "    </tr>\n",
       "  </tbody>\n",
       "</table>\n",
       "</div>"
      ],
      "text/plain": [
       "                        _id                                  Title  Price  \\\n",
       "0  6496513e6e5a637da98e0e9c                   A Light in the Attic  Three   \n",
       "1  6496513e6e5a637da98e0e9d                     Tipping the Velvet    One   \n",
       "2  6496513e6e5a637da98e0e9e                             Soumission    One   \n",
       "3  6496513e6e5a637da98e0e9f                          Sharp Objects   Four   \n",
       "4  6496513e6e5a637da98e0ea0  Sapiens: A Brief History of Humankind   Five   \n",
       "\n",
       "   Star_rating  \n",
       "0        51.77  \n",
       "1        53.74  \n",
       "2        50.10  \n",
       "3        47.82  \n",
       "4        54.23  "
      ]
     },
     "execution_count": 101,
     "metadata": {},
     "output_type": "execute_result"
    }
   ],
   "source": [
    "books_df=pd.DataFrame(list_all_records)\n",
    "books_df.head()\n"
   ]
  },
  {
   "cell_type": "code",
   "execution_count": 102,
   "id": "84ad939e",
   "metadata": {},
   "outputs": [
    {
     "data": {
      "text/html": [
       "<div>\n",
       "<style scoped>\n",
       "    .dataframe tbody tr th:only-of-type {\n",
       "        vertical-align: middle;\n",
       "    }\n",
       "\n",
       "    .dataframe tbody tr th {\n",
       "        vertical-align: top;\n",
       "    }\n",
       "\n",
       "    .dataframe thead th {\n",
       "        text-align: right;\n",
       "    }\n",
       "</style>\n",
       "<table border=\"1\" class=\"dataframe\">\n",
       "  <thead>\n",
       "    <tr style=\"text-align: right;\">\n",
       "      <th></th>\n",
       "      <th>_id</th>\n",
       "      <th>Title</th>\n",
       "      <th>Price</th>\n",
       "      <th>Star_rating</th>\n",
       "    </tr>\n",
       "  </thead>\n",
       "  <tbody>\n",
       "    <tr>\n",
       "      <th>75</th>\n",
       "      <td>6496513e6e5a637da98e0ee7</td>\n",
       "      <td>Security</td>\n",
       "      <td>Two</td>\n",
       "      <td>39.25</td>\n",
       "    </tr>\n",
       "    <tr>\n",
       "      <th>76</th>\n",
       "      <td>6496513e6e5a637da98e0ee8</td>\n",
       "      <td>Saga, Volume 6 (Saga (Collected Editions) #6)</td>\n",
       "      <td>Three</td>\n",
       "      <td>25.02</td>\n",
       "    </tr>\n",
       "    <tr>\n",
       "      <th>77</th>\n",
       "      <td>6496513e6e5a637da98e0ee9</td>\n",
       "      <td>Saga, Volume 5 (Saga (Collected Editions) #5)</td>\n",
       "      <td>Two</td>\n",
       "      <td>51.04</td>\n",
       "    </tr>\n",
       "    <tr>\n",
       "      <th>78</th>\n",
       "      <td>6496513e6e5a637da98e0eea</td>\n",
       "      <td>Reskilling America: Learning to Labor in the T...</td>\n",
       "      <td>Two</td>\n",
       "      <td>19.83</td>\n",
       "    </tr>\n",
       "    <tr>\n",
       "      <th>79</th>\n",
       "      <td>6496513e6e5a637da98e0eeb</td>\n",
       "      <td>Rat Queens, Vol. 3: Demons (Rat Queens (Collec...</td>\n",
       "      <td>Three</td>\n",
       "      <td>50.40</td>\n",
       "    </tr>\n",
       "  </tbody>\n",
       "</table>\n",
       "</div>"
      ],
      "text/plain": [
       "                         _id  \\\n",
       "75  6496513e6e5a637da98e0ee7   \n",
       "76  6496513e6e5a637da98e0ee8   \n",
       "77  6496513e6e5a637da98e0ee9   \n",
       "78  6496513e6e5a637da98e0eea   \n",
       "79  6496513e6e5a637da98e0eeb   \n",
       "\n",
       "                                                Title  Price  Star_rating  \n",
       "75                                           Security    Two        39.25  \n",
       "76      Saga, Volume 6 (Saga (Collected Editions) #6)  Three        25.02  \n",
       "77      Saga, Volume 5 (Saga (Collected Editions) #5)    Two        51.04  \n",
       "78  Reskilling America: Learning to Labor in the T...    Two        19.83  \n",
       "79  Rat Queens, Vol. 3: Demons (Rat Queens (Collec...  Three        50.40  "
      ]
     },
     "execution_count": 102,
     "metadata": {},
     "output_type": "execute_result"
    }
   ],
   "source": [
    "books_df.tail()"
   ]
  },
  {
   "cell_type": "code",
   "execution_count": 103,
   "id": "d014d6f9",
   "metadata": {},
   "outputs": [
    {
     "data": {
      "text/plain": [
       "(80, 4)"
      ]
     },
     "execution_count": 103,
     "metadata": {},
     "output_type": "execute_result"
    }
   ],
   "source": [
    "books_df.shape"
   ]
  },
  {
   "cell_type": "code",
   "execution_count": null,
   "id": "1fb7979f",
   "metadata": {},
   "outputs": [],
   "source": []
  }
 ],
 "metadata": {
  "kernelspec": {
   "display_name": "Python 3 (ipykernel)",
   "language": "python",
   "name": "python3"
  },
  "language_info": {
   "codemirror_mode": {
    "name": "ipython",
    "version": 3
   },
   "file_extension": ".py",
   "mimetype": "text/x-python",
   "name": "python",
   "nbconvert_exporter": "python",
   "pygments_lexer": "ipython3",
   "version": "3.11.3"
  }
 },
 "nbformat": 4,
 "nbformat_minor": 5
}
